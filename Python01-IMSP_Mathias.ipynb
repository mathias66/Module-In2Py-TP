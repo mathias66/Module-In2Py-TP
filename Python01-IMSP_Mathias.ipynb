{
 "cells": [
  {
   "cell_type": "markdown",
   "id": "a42944cc",
   "metadata": {},
   "source": [
    "1"
   ]
  },
  {
   "cell_type": "markdown",
   "id": "e230445d",
   "metadata": {},
   "source": [
    "1.1"
   ]
  },
  {
   "cell_type": "code",
   "execution_count": 1,
   "id": "5485d09b",
   "metadata": {},
   "outputs": [],
   "source": [
    "n = 5"
   ]
  },
  {
   "cell_type": "code",
   "execution_count": null,
   "id": "546c4b86",
   "metadata": {},
   "outputs": [],
   "source": [
    "i = 0\n",
    "somme = 0\n",
    "while i < (n-1)//2 :\n",
    "    somme = somme + (2*i+1 + 3)\n",
    "i = i+1"
   ]
  },
  {
   "cell_type": "code",
   "execution_count": null,
   "id": "a8ed3b1e",
   "metadata": {},
   "outputs": [],
   "source": [
    "j =0 \n",
    "produit = 1\n",
    "while j <= (n-1)//2 :\n",
    "    produit = produit * (2*j+3)\n",
    "j ++"
   ]
  },
  {
   "cell_type": "markdown",
   "id": "8cecd8f0",
   "metadata": {},
   "source": [
    "1.2"
   ]
  },
  {
   "cell_type": "code",
   "execution_count": null,
   "id": "1cda3f55",
   "metadata": {},
   "outputs": [],
   "source": [
    "days = ['lundi','Mardi','Mercredi', 'Jeudi','Vendredi','Samedi','Dimanche']\n",
    "numberOfDays = [0,1,2,3,4,5,6]\n",
    "for k in numberOfDays :\n",
    "    if k < 5 :\n",
    "        print(days[k])\n",
    "    elif k in {5,6} :\n",
    "        print(\"weekend\")\n",
    "    else :\n",
    "        print(\"no day correspondind to\", k)\n",
    "        "
   ]
  },
  {
   "cell_type": "code",
   "execution_count": null,
   "id": "eb8a659b",
   "metadata": {},
   "outputs": [],
   "source": [
    "monthNumber = {0,1,2,3,4,5,6,7,8,9,10,11}\n",
    "for l in monthNumber :\n",
    "    if l == 1 :\n",
    "        print(\"The month number\",l,\"have 28 days\")\n",
    "    elif l<8:\n",
    "        if l%2 == 0 :\n",
    "            print(\"The month number\",l,\"have 31 days\")\n",
    "        else :\n",
    "            print(\"The month number\",l,\"have 30 days\")\n",
    "    else :\n",
    "        if l%2 == 0 :\n",
    "            print(\"The month number\",l,\"have 30 days\")\n",
    "        else :\n",
    "            print(\"The month number\",l,\"have 31 days\")"
   ]
  },
  {
   "cell_type": "code",
   "execution_count": null,
   "id": "cf041a90",
   "metadata": {},
   "outputs": [],
   "source": [
    "term0= 1\n",
    "term1 = 3\n",
    "termn = 0\n",
    "n =15\n",
    "m = 2\n",
    "while m <= n:\n",
    "    termn = term1 + term0\n",
    "    "
   ]
  }
 ],
 "metadata": {
  "kernelspec": {
   "display_name": "Python 3",
   "language": "python",
   "name": "python3"
  },
  "language_info": {
   "codemirror_mode": {
    "name": "ipython",
    "version": 3
   },
   "file_extension": ".py",
   "mimetype": "text/x-python",
   "name": "python",
   "nbconvert_exporter": "python",
   "pygments_lexer": "ipython3",
   "version": "3.8.5"
  }
 },
 "nbformat": 4,
 "nbformat_minor": 5
}
