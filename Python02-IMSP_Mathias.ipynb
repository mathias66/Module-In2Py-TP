{
 "cells": [
  {
   "cell_type": "code",
   "execution_count": null,
   "id": "ce0c3627",
   "metadata": {
    "scrolled": true
   },
   "outputs": [],
   "source": [
    "from math import sqrt,sin\n",
    "x = float(input(\"Enter the value of x:\"))\n",
    "y = float(input(\"Enter the value of y:\"))\n",
    "z = (sqrt(x**(2+y)))/((1/x)+2*sin(y))"
   ]
  },
  {
   "cell_type": "markdown",
   "id": "e3b77a3a",
   "metadata": {},
   "source": [
    "2"
   ]
  },
  {
   "cell_type": "code",
   "execution_count": null,
   "id": "e1bb93f2",
   "metadata": {},
   "outputs": [],
   "source": [
    "from math import pow\n",
    "def ownpowerfn(b,n) :\n",
    "    return pow(b,n)"
   ]
  },
  {
   "cell_type": "markdown",
   "id": "f94eca2e",
   "metadata": {},
   "source": [
    "3"
   ]
  },
  {
   "cell_type": "code",
   "execution_count": null,
   "id": "ba0158b6",
   "metadata": {},
   "outputs": [],
   "source": [
    "def arithmetic_mean(nbr1,nbr2) :\n",
    "    return (nbr1+nbr2)/2"
   ]
  },
  {
   "cell_type": "code",
   "execution_count": null,
   "id": "0d8906f4",
   "metadata": {},
   "outputs": [],
   "source": [
    "from math import sqrt\n",
    "def geometric_mean(nbr1,nbr2) :\n",
    "    return sqrt(nbr1*nbr2)"
   ]
  },
  {
   "cell_type": "code",
   "execution_count": null,
   "id": "e4162eb8",
   "metadata": {},
   "outputs": [],
   "source": [
    "#b\n",
    "def celsius_to_fahrenheit(celsius) :\n",
    "    return celsius*9/5 +32"
   ]
  },
  {
   "cell_type": "code",
   "execution_count": null,
   "id": "7501fa81",
   "metadata": {},
   "outputs": [],
   "source": [
    "def fahrenheit_to_celsius(fahrenheit) :\n",
    "    return (fahrenheit-32)*5/9"
   ]
  },
  {
   "cell_type": "code",
   "execution_count": null,
   "id": "c1bbea3e",
   "metadata": {},
   "outputs": [],
   "source": [
    "#c\n",
    "def degrees_to_radians(degrees) :\n",
    "    return (degrees/180)*3.14"
   ]
  },
  {
   "cell_type": "code",
   "execution_count": null,
   "id": "e645abb3",
   "metadata": {},
   "outputs": [],
   "source": [
    "def radians_to_degrees(radians) :\n",
    "    return (radians/3.14)*180"
   ]
  },
  {
   "cell_type": "code",
   "execution_count": null,
   "id": "3ba7ef7c",
   "metadata": {},
   "outputs": [],
   "source": [
    "#d\n",
    "def circumArea(radius) :\n",
    "    cirArea = {'circum':0,'area':0}\n",
    "    cirArea['circum'] = 2*radius*3.14\n",
    "    cirArea['area'] = radius*radius*3.14\n",
    "    return cirArea"
   ]
  },
  {
   "cell_type": "markdown",
   "id": "d3c52e05",
   "metadata": {},
   "source": [
    "4"
   ]
  },
  {
   "cell_type": "code",
   "execution_count": null,
   "id": "a92f3bb7",
   "metadata": {},
   "outputs": [],
   "source": [
    "#b\n",
    "from math import sqrt\n",
    "def distance(point1,point2) :\n",
    "    return sqrt((point1[0]-point2[0])**2 + (point1[1]-point2[1])**2)"
   ]
  },
  {
   "cell_type": "code",
   "execution_count": null,
   "id": "eaaca80a",
   "metadata": {},
   "outputs": [],
   "source": [
    "import distance \n",
    "point01 =[0,1]\n",
    "point02 = [1,0]\n",
    "point03 = [2,5]\n",
    "perimeter = distance(point01,point02)+distance(point02,point03)+distance(point03,point01)"
   ]
  },
  {
   "cell_type": "markdown",
   "id": "9c48589f",
   "metadata": {},
   "source": [
    "5"
   ]
  },
  {
   "cell_type": "code",
   "execution_count": null,
   "id": "e5d69394",
   "metadata": {},
   "outputs": [],
   "source": [
    "def menu() :\n",
    "    print(\"1:Evaluation of factorial\")\n",
    "    print(\"Evaluation of second degree equation\")\n",
    "    print(\"Exit\")\n",
    "    choix = int(input('choix:'))\n",
    "    return choix"
   ]
  },
  {
   "cell_type": "code",
   "execution_count": null,
   "id": "576bbec8",
   "metadata": {},
   "outputs": [],
   "source": [
    "import menu\n",
    "def threeOptions() :\n",
    "    if menu()== 1 :\n",
    "        "
   ]
  }
 ],
 "metadata": {
  "kernelspec": {
   "display_name": "Python 3",
   "language": "python",
   "name": "python3"
  },
  "language_info": {
   "codemirror_mode": {
    "name": "ipython",
    "version": 3
   },
   "file_extension": ".py",
   "mimetype": "text/x-python",
   "name": "python",
   "nbconvert_exporter": "python",
   "pygments_lexer": "ipython3",
   "version": "3.8.5"
  }
 },
 "nbformat": 4,
 "nbformat_minor": 5
}
