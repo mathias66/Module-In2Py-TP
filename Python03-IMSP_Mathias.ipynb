{
 "cells": [
  {
   "cell_type": "markdown",
   "id": "f0971e31",
   "metadata": {},
   "source": [
    "1"
   ]
  },
  {
   "cell_type": "code",
   "execution_count": 48,
   "id": "bc7849b8",
   "metadata": {},
   "outputs": [],
   "source": [
    "#a\n",
    "def M(chaine1,chaine2) :\n",
    "    chaine = \"\"\n",
    "    k = l =0\n",
    "    while k < len(chaine1) and l< len(chaine2) :\n",
    "        if chaine1[k] < chaine2[l] :\n",
    "            chaine = chaine + chaine1[k]\n",
    "            k +=1\n",
    "        elif chaine1[k]>chaine2[l] :\n",
    "            chaine = chaine + chaine2[l]\n",
    "            l +=1\n",
    "        else :\n",
    "            chaine = chaine + chaine1[k] +chaine2[l]\n",
    "            k+=1\n",
    "            l+=1\n",
    "    if k < len(chaine1) :\n",
    "        chaine = chaine + chaine1[k:]\n",
    "    if l < len(chaine2) :\n",
    "        chaine = chaine + chaine2[l:]\n",
    "    \n",
    "    return chaine    "
   ]
  },
  {
   "cell_type": "code",
   "execution_count": 49,
   "id": "21c56350",
   "metadata": {},
   "outputs": [
    {
     "name": "stdout",
     "output_type": "stream",
     "text": [
      "abcdefi\n"
     ]
    }
   ],
   "source": [
    "print(M(\"abci\",\"def\"))"
   ]
  },
  {
   "cell_type": "code",
   "execution_count": 50,
   "id": "3ac72eb1",
   "metadata": {},
   "outputs": [
    {
     "name": "stdout",
     "output_type": "stream",
     "text": [
      "deklmxy\n"
     ]
    }
   ],
   "source": [
    "print(M(\"xy\",\"deklm\"))"
   ]
  },
  {
   "cell_type": "code",
   "execution_count": 51,
   "id": "e9f50069",
   "metadata": {},
   "outputs": [
    {
     "name": "stdout",
     "output_type": "stream",
     "text": [
      "abbccddd\n"
     ]
    }
   ],
   "source": [
    "#b\n",
    "print(M('bdd','abccd'))"
   ]
  },
  {
   "cell_type": "code",
   "execution_count": 56,
   "id": "d2acac09",
   "metadata": {},
   "outputs": [],
   "source": [
    "#c\n",
    "#import M\n",
    "def S(chaine) :\n",
    "    if len(chaine) == 1 :\n",
    "        return chaine\n",
    "    elif len(chaine) == 2 :\n",
    "        return M(chaine[0],chaine[1])\n",
    "    else :\n",
    "        long = len(chaine)//2\n",
    "        return M(S(chaine[:long]), S(chaine[long:]))"
   ]
  },
  {
   "cell_type": "code",
   "execution_count": 58,
   "id": "bf422d85",
   "metadata": {},
   "outputs": [
    {
     "name": "stdout",
     "output_type": "stream",
     "text": [
      "ddddeefhjnqrssz\n"
     ]
    }
   ],
   "source": [
    "print( S(\"zdefhjnresdddsq\") )"
   ]
  },
  {
   "cell_type": "code",
   "execution_count": 60,
   "id": "4a5acfde",
   "metadata": {},
   "outputs": [],
   "source": [
    "#d\n",
    "def M1(ch1,ch2) :\n",
    "    return M(S(ch1),S(ch2))\n"
   ]
  },
  {
   "cell_type": "code",
   "execution_count": 2,
   "id": "1869f60a",
   "metadata": {},
   "outputs": [],
   "source": [
    "#e\n",
    "#i\n",
    "def findFirstVowel() :\n",
    "    sentence1 = input(\"Enter your sentence: \")  \n",
    "    longueur = len(sentence1)\n",
    "    for i in range(0,longueur) :\n",
    "        if sentence1[i] in ('a','e','i','o','u','y') :\n",
    "            return sentence1[i]\n",
    "            break"
   ]
  },
  {
   "cell_type": "code",
   "execution_count": 3,
   "id": "965d3d59",
   "metadata": {},
   "outputs": [
    {
     "name": "stdout",
     "output_type": "stream",
     "text": [
      "Enter your sentence: je suis\n"
     ]
    },
    {
     "data": {
      "text/plain": [
       "'e'"
      ]
     },
     "execution_count": 3,
     "metadata": {},
     "output_type": "execute_result"
    }
   ],
   "source": [
    "findFirstVowel()"
   ]
  },
  {
   "cell_type": "code",
   "execution_count": 6,
   "id": "0cc3a437",
   "metadata": {},
   "outputs": [],
   "source": [
    "# ii\n",
    "def isVowel(caracter) :\n",
    "    if caracter in 'aAeEiIoOuUyY':\n",
    "        return 1\n",
    "    else :\n",
    "        return 0"
   ]
  },
  {
   "cell_type": "code",
   "execution_count": 29,
   "id": "10e05f05",
   "metadata": {},
   "outputs": [],
   "source": [
    "def countNumberOfVowel(sentence) :\n",
    "    caract = 0\n",
    "    for v in sentence :\n",
    "        if isVowel(v)==1 :\n",
    "            caract+=1\n",
    "    return caract"
   ]
  },
  {
   "cell_type": "code",
   "execution_count": 30,
   "id": "bc303a22",
   "metadata": {},
   "outputs": [
    {
     "data": {
      "text/plain": [
       "8"
      ]
     },
     "execution_count": 30,
     "metadata": {},
     "output_type": "execute_result"
    }
   ],
   "source": [
    "sentence = 'je suis débutant en python'\n",
    "countNumberOfVowel(sentence)"
   ]
  },
  {
   "cell_type": "code",
   "execution_count": 27,
   "id": "b544ca20",
   "metadata": {},
   "outputs": [],
   "source": [
    "#iv\n",
    "def countNumberVowel(sentences) :\n",
    "    vowels = {'a':0, 'e':0, 'i':0, 'o':0, 'u':0, 'y':0}\n",
    "    for j in sentences :\n",
    "        if j == 'a' or j == 'A' :\n",
    "            vowels['a']+=1\n",
    "        elif j == 'e' or j == 'E' :\n",
    "            vowels['e']+=1\n",
    "        elif j == 'o' or j == 'O' :\n",
    "            vowels['o']+=1\n",
    "        elif j == 'i' or j == 'I' :\n",
    "            vowels['i']+=1\n",
    "        elif j == 'u' or j == 'U' :\n",
    "            vowels['u']+=1\n",
    "        elif j == 'y' or j == 'Y' :\n",
    "            vowels['y']+=1\n",
    "    for m in 'aeiouy':\n",
    "        print(m,':',vowels[m])"
   ]
  },
  {
   "cell_type": "code",
   "execution_count": 28,
   "id": "207e9a50",
   "metadata": {},
   "outputs": [
    {
     "name": "stdout",
     "output_type": "stream",
     "text": [
      "a : 0\n",
      "e : 2\n",
      "i : 1\n",
      "o : 0\n",
      "u : 0\n",
      "y : 0\n"
     ]
    }
   ],
   "source": [
    "sen = \"je viens\"\n",
    "countNumberVowel(sen)"
   ]
  },
  {
   "cell_type": "code",
   "execution_count": null,
   "id": "ae3fdf4d",
   "metadata": {},
   "outputs": [],
   "source": [
    "#v\n",
    "def compare(strin) :\n",
    "    b=0\n",
    "    c=0\n",
    "    for s in strin :\n",
    "        if s=='b' :\n",
    "            b+=1\n",
    "        elif s== 'c' :\n",
    "            c+=1\n",
    "    if b<c :\n",
    "        return -1\n",
    "    elif b == c :\n",
    "        return 0\n",
    "    else :\n",
    "        return 1\n",
    "        "
   ]
  },
  {
   "cell_type": "code",
   "execution_count": 45,
   "id": "0b0546aa",
   "metadata": {},
   "outputs": [],
   "source": [
    "#vi\n",
    "def rewrite(phrase) :\n",
    "    words = phrase.split(' ')\n",
    "    phrase0 = \"\"\n",
    "    for h in range(0,len(words)) :\n",
    "        words[h].capitalize()\n",
    "        phrase0 = phrase0+\" \"+words[h]\n",
    "    phrase = phrase0    \n",
    "    return phrase"
   ]
  },
  {
   "cell_type": "code",
   "execution_count": 46,
   "id": "50c4fc12",
   "metadata": {},
   "outputs": [
    {
     "name": "stdout",
     "output_type": "stream",
     "text": [
      " je manges\n"
     ]
    }
   ],
   "source": [
    "var = 'je manges'\n",
    "print(rewrite(var))"
   ]
  },
  {
   "cell_type": "code",
   "execution_count": null,
   "id": "d05b2a7b",
   "metadata": {},
   "outputs": [],
   "source": []
  },
  {
   "cell_type": "code",
   "execution_count": null,
   "id": "f60cbacd",
   "metadata": {},
   "outputs": [],
   "source": [
    "#vii\n",
    "def isPhalindrom(sentencess)"
   ]
  },
  {
   "cell_type": "code",
   "execution_count": 41,
   "id": "14e8ec30",
   "metadata": {},
   "outputs": [],
   "source": [
    "#viii\n",
    "def countWordIntoText() :\n",
    "    text = input(\"Entrez un text:\")\n",
    "    singleWord = input('Entrez un mot')\n",
    "    singleWords = text.split(' ')\n",
    "    cmptWord = 0\n",
    "    for mi in range(0,len(singleWords)) :\n",
    "        if singleWords[mi]==singleWord :\n",
    "            cmptWord+=1\n",
    "    return cmptWord"
   ]
  },
  {
   "cell_type": "code",
   "execution_count": null,
   "id": "69acd371",
   "metadata": {},
   "outputs": [],
   "source": []
  }
 ],
 "metadata": {
  "kernelspec": {
   "display_name": "Python 3",
   "language": "python",
   "name": "python3"
  },
  "language_info": {
   "codemirror_mode": {
    "name": "ipython",
    "version": 3
   },
   "file_extension": ".py",
   "mimetype": "text/x-python",
   "name": "python",
   "nbconvert_exporter": "python",
   "pygments_lexer": "ipython3",
   "version": "3.8.5"
  }
 },
 "nbformat": 4,
 "nbformat_minor": 5
}
