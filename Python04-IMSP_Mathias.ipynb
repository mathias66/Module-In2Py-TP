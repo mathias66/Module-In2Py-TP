{
 "cells": [
  {
   "cell_type": "markdown",
   "id": "3ba4b08b",
   "metadata": {},
   "source": [
    "1"
   ]
  },
  {
   "cell_type": "code",
   "execution_count": 1,
   "id": "39e39ce7",
   "metadata": {},
   "outputs": [],
   "source": [
    "produitPrice = {'ordinateur':400000, 'routeur':50000}"
   ]
  },
  {
   "cell_type": "code",
   "execution_count": 2,
   "id": "5e59f615",
   "metadata": {},
   "outputs": [],
   "source": [
    "produitPrice['souris'] = 25000"
   ]
  },
  {
   "cell_type": "code",
   "execution_count": 4,
   "id": "e179a5ad",
   "metadata": {},
   "outputs": [
    {
     "data": {
      "text/plain": [
       "dict_keys(['ordinateur', 'routeur', 'souris'])"
      ]
     },
     "execution_count": 4,
     "metadata": {},
     "output_type": "execute_result"
    }
   ],
   "source": [
    "produitPrice.keys()"
   ]
  },
  {
   "cell_type": "markdown",
   "id": "dd32699f",
   "metadata": {},
   "source": [
    "2"
   ]
  },
  {
   "cell_type": "code",
   "execution_count": 5,
   "id": "be9bbfc2",
   "metadata": {},
   "outputs": [],
   "source": [
    "def addNameTelephone(List,name,phone) :\n",
    "    List['name'] = phone"
   ]
  },
  {
   "cell_type": "code",
   "execution_count": 8,
   "id": "bb9e0e75",
   "metadata": {},
   "outputs": [],
   "source": [
    "def searchTelehone(List,names) :\n",
    "    return List['names']"
   ]
  },
  {
   "cell_type": "code",
   "execution_count": 9,
   "id": "111a05f0",
   "metadata": {},
   "outputs": [],
   "source": [
    "def searchName(List,telephone) :\n",
    "    for nam in List.keys() :\n",
    "        if List[nam] == telephone :\n",
    "            return nam"
   ]
  },
  {
   "cell_type": "code",
   "execution_count": 10,
   "id": "cbd80dec",
   "metadata": {},
   "outputs": [],
   "source": [
    "def printListOfPhone(List) :\n",
    "    for nam,phones in List.items() :\n",
    "        print(nam,':',phones)"
   ]
  },
  {
   "cell_type": "markdown",
   "id": "e4cb7860",
   "metadata": {},
   "source": [
    "3"
   ]
  },
  {
   "cell_type": "code",
   "execution_count": 11,
   "id": "992c4653",
   "metadata": {},
   "outputs": [],
   "source": [
    "def mapWordIntoInteger(lisword,listInteger) :\n",
    "    for words in range(0,len(listword)):\n",
    "        listInteger[words] = len(lisword[words])\n",
    "        "
   ]
  },
  {
   "cell_type": "markdown",
   "id": "b293e24e",
   "metadata": {},
   "source": [
    "4"
   ]
  },
  {
   "cell_type": "code",
   "execution_count": 12,
   "id": "71cd0110",
   "metadata": {},
   "outputs": [],
   "source": [
    "def find_longest_word(listOfWords):\n",
    "    long = 0\n",
    "    for k in range(0,len(listOfWords)) :\n",
    "        long = long + len(listOfWords[k])\n",
    "    return long    \n",
    "    "
   ]
  },
  {
   "cell_type": "markdown",
   "id": "25e17cf8",
   "metadata": {},
   "source": [
    "6"
   ]
  },
  {
   "cell_type": "code",
   "execution_count": 13,
   "id": "d5e9f5d8",
   "metadata": {},
   "outputs": [],
   "source": [
    "def is_member(x,a) :\n",
    "    for u in range(0,len(a)):\n",
    "        if a[u] == x :\n",
    "            return \"True\"\n",
    "    return \"False\""
   ]
  },
  {
   "cell_type": "markdown",
   "id": "d3664262",
   "metadata": {},
   "source": [
    "7"
   ]
  },
  {
   "cell_type": "code",
   "execution_count": 27,
   "id": "1035d603",
   "metadata": {},
   "outputs": [],
   "source": [
    "def histogram(ListOfInteger) :\n",
    "    iterat = 0\n",
    "    strin = ''\n",
    "    while iterat < len(ListOfInteger) :\n",
    "        for l in range(0,ListOfInteger[iterat]) :\n",
    "            strin = strin + '*'\n",
    "        print(strin)\n",
    "        print('\\t')\n",
    "        iterat+=1"
   ]
  },
  {
   "cell_type": "code",
   "execution_count": 28,
   "id": "4f6f0fb4",
   "metadata": {},
   "outputs": [
    {
     "name": "stdout",
     "output_type": "stream",
     "text": [
      "***\n",
      "\t\n",
      "**********\n",
      "\t\n",
      "******************\n",
      "\t\n"
     ]
    }
   ],
   "source": [
    "histogram([3,7,8])"
   ]
  },
  {
   "cell_type": "markdown",
   "id": "3f40b4a0",
   "metadata": {},
   "source": [
    "8"
   ]
  },
  {
   "cell_type": "code",
   "execution_count": 15,
   "id": "aa600bbb",
   "metadata": {},
   "outputs": [],
   "source": [
    "Amour = {\"name\":\"Amour\",\"homework\":[],\"quizzes\":[],\"tests\":[]}\n",
    "Paix = {\"name\":\"Paix\",\"homework\":[],\"quizzes\":[],\"tests\":[]}\n",
    "Foi = {\"name\":\"Foi\",\"homework\":[],\"quizzes\":[],\"tests\":[]}\n"
   ]
  },
  {
   "cell_type": "code",
   "execution_count": 16,
   "id": "1c7bbe36",
   "metadata": {},
   "outputs": [],
   "source": [
    "Amour = {\n",
    "\"name\": \"Amour\",\n",
    "\"homework\": [90.0,97.0,75.0,92.0],\n",
    "\"quizzes\": [88.0,40.0,94.0],\n",
    "\"tests\": [75.0,90.0]\n",
    "}\n",
    "\n",
    "Paix = {\n",
    "\"name\": \"Paix\",\n",
    "\"homework\": [100.0, 92.0, 98.0, 100.0],\n",
    "\"quizzes\": [82.0, 83.0, 91.0],\n",
    "\"tests\": [89.0, 97.0]\n",
    "}\n",
    "\n",
    "Foi = {\n",
    "\"name\": \"Foi\",\n",
    "\"homework\": [0.0, 87.0, 75.0, 22.0],\n",
    "\"quizzes\": [0.0, 75.0, 78.0],\n",
    "\"tests\": [100.0, 100.0]\n",
    "}"
   ]
  },
  {
   "cell_type": "code",
   "execution_count": 17,
   "id": "69824691",
   "metadata": {},
   "outputs": [],
   "source": [
    "students = ['Amour','Paix','Foi']"
   ]
  },
  {
   "cell_type": "code",
   "execution_count": 22,
   "id": "6296b6fc",
   "metadata": {},
   "outputs": [
    {
     "name": "stdout",
     "output_type": "stream",
     "text": [
      "name : Amour\n",
      "homework : [90.0, 97.0, 75.0, 92.0]\n",
      "quizzes : [88.0, 40.0, 94.0]\n",
      "tests : [75.0, 90.0]\n",
      "\t\n",
      "name : Paix\n",
      "homework : [100.0, 92.0, 98.0, 100.0]\n",
      "quizzes : [82.0, 83.0, 91.0]\n",
      "tests : [89.0, 97.0]\n",
      "\t\n",
      "name : Foi\n",
      "homework : [0.0, 87.0, 75.0, 22.0]\n",
      "quizzes : [0.0, 75.0, 78.0]\n",
      "tests : [100.0, 100.0]\n",
      "\t\n"
     ]
    }
   ],
   "source": [
    "for stud in students :\n",
    "    if stud == 'Amour' :\n",
    "        for key in Amour.keys() :\n",
    "            print(key,':',Amour[key])\n",
    "        print('\\t')\n",
    "    elif stud == 'Paix' :\n",
    "        for key in Paix.keys() :\n",
    "            print(key,':',Paix[key])\n",
    "        print('\\t')\n",
    "    elif stud == 'Foi' :\n",
    "        for key in Foi.keys() :\n",
    "            print(key,':',Foi[key])\n",
    "        print('\\t')"
   ]
  },
  {
   "cell_type": "code",
   "execution_count": 23,
   "id": "829b791e",
   "metadata": {},
   "outputs": [],
   "source": [
    "def average(numbers) :\n",
    "    total = sum(numbers)\n",
    "    total = total / len(numbers)\n",
    "    return total"
   ]
  },
  {
   "cell_type": "code",
   "execution_count": null,
   "id": "fa7f3f4e",
   "metadata": {},
   "outputs": [],
   "source": []
  }
 ],
 "metadata": {
  "kernelspec": {
   "display_name": "Python 3",
   "language": "python",
   "name": "python3"
  },
  "language_info": {
   "codemirror_mode": {
    "name": "ipython",
    "version": 3
   },
   "file_extension": ".py",
   "mimetype": "text/x-python",
   "name": "python",
   "nbconvert_exporter": "python",
   "pygments_lexer": "ipython3",
   "version": "3.8.5"
  }
 },
 "nbformat": 4,
 "nbformat_minor": 5
}
