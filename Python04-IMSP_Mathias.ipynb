{
 "cells": [
  {
   "cell_type": "markdown",
   "id": "f417818e",
   "metadata": {},
   "source": [
    "1"
   ]
  },
  {
   "cell_type": "code",
   "execution_count": 1,
   "id": "595c2fc6",
   "metadata": {},
   "outputs": [],
   "source": [
    "produitPrice = {'ordinateur':400000, 'routeur':50000}"
   ]
  },
  {
   "cell_type": "code",
   "execution_count": 2,
   "id": "b52d4157",
   "metadata": {},
   "outputs": [],
   "source": [
    "produitPrice['souris'] = 25000"
   ]
  },
  {
   "cell_type": "code",
   "execution_count": 4,
   "id": "951094f0",
   "metadata": {},
   "outputs": [
    {
     "data": {
      "text/plain": [
       "dict_keys(['ordinateur', 'routeur', 'souris'])"
      ]
     },
     "execution_count": 4,
     "metadata": {},
     "output_type": "execute_result"
    }
   ],
   "source": [
    "produitPrice.keys()"
   ]
  },
  {
   "cell_type": "markdown",
   "id": "e7035ee9",
   "metadata": {},
   "source": [
    "2"
   ]
  },
  {
   "cell_type": "code",
   "execution_count": 5,
   "id": "ce61eaeb",
   "metadata": {},
   "outputs": [],
   "source": [
    "def addNameTelephone(List,name,phone) :\n",
    "    List['name'] = phone"
   ]
  },
  {
   "cell_type": "code",
   "execution_count": 8,
   "id": "3a72ed8b",
   "metadata": {},
   "outputs": [],
   "source": [
    "def searchTelehone(List,names) :\n",
    "    return List['names']"
   ]
  },
  {
   "cell_type": "code",
   "execution_count": 9,
   "id": "e50cc7ae",
   "metadata": {},
   "outputs": [],
   "source": [
    "def searchName(List,telephone) :\n",
    "    for nam in List.keys() :\n",
    "        if List[nam] == telephone :\n",
    "            return nam"
   ]
  },
  {
   "cell_type": "code",
   "execution_count": 10,
   "id": "43722f37",
   "metadata": {},
   "outputs": [],
   "source": [
    "def printListOfPhone(List) :\n",
    "    for nam,phones in List.items() :\n",
    "        print(nam,':',phones)"
   ]
  },
  {
   "cell_type": "markdown",
   "id": "795c436d",
   "metadata": {},
   "source": [
    "3"
   ]
  },
  {
   "cell_type": "code",
   "execution_count": 11,
   "id": "9428c245",
   "metadata": {},
   "outputs": [],
   "source": [
    "def mapWordIntoInteger(lisword,listInteger) :\n",
    "    for words in range(0,len(listword)):\n",
    "        listInteger[words] = len(lisword[words])\n",
    "        "
   ]
  },
  {
   "cell_type": "markdown",
   "id": "4434e276",
   "metadata": {},
   "source": [
    "4"
   ]
  },
  {
   "cell_type": "code",
   "execution_count": 12,
   "id": "6cc50b72",
   "metadata": {},
   "outputs": [],
   "source": [
    "def find_longest_word(listOfWords):\n",
    "    long = 0\n",
    "    for k in range(0,len(listOfWords)) :\n",
    "        long = long + len(listOfWords[k])\n",
    "    return long    \n",
    "    "
   ]
  },
  {
   "cell_type": "markdown",
   "id": "2de99c95",
   "metadata": {},
   "source": [
    "6"
   ]
  },
  {
   "cell_type": "code",
   "execution_count": 13,
   "id": "9c776299",
   "metadata": {},
   "outputs": [],
   "source": [
    "def is_member(x,a) :\n",
    "    for u in range(0,len(a)):\n",
    "        if a[u] == x :\n",
    "            return \"True\"\n",
    "    return \"False\""
   ]
  },
  {
   "cell_type": "markdown",
   "id": "b0bf15eb",
   "metadata": {},
   "source": [
    "7"
   ]
  },
  {
   "cell_type": "code",
   "execution_count": 27,
   "id": "a3689596",
   "metadata": {},
   "outputs": [],
   "source": [
    "def histogram(ListOfInteger) :\n",
    "    iterat = 0\n",
    "    strin = ''\n",
    "    while iterat < len(ListOfInteger) :\n",
    "        for l in range(0,ListOfInteger[iterat]) :\n",
    "            strin = strin + '*'\n",
    "        print(strin)\n",
    "        print('\\t')\n",
    "        iterat+=1"
   ]
  },
  {
   "cell_type": "code",
   "execution_count": 28,
   "id": "7b509148",
   "metadata": {},
   "outputs": [
    {
     "name": "stdout",
     "output_type": "stream",
     "text": [
      "***\n",
      "\t\n",
      "**********\n",
      "\t\n",
      "******************\n",
      "\t\n"
     ]
    }
   ],
   "source": [
    "histogram([3,7,8])"
   ]
  },
  {
   "cell_type": "markdown",
   "id": "ae16d602",
   "metadata": {},
   "source": [
    "8"
   ]
  },
  {
   "cell_type": "code",
   "execution_count": 15,
   "id": "ef5200ef",
   "metadata": {},
   "outputs": [],
   "source": [
    "Amour = {\"name\":\"Amour\",\"homework\":[],\"quizzes\":[],\"tests\":[]}\n",
    "Paix = {\"name\":\"Paix\",\"homework\":[],\"quizzes\":[],\"tests\":[]}\n",
    "Foi = {\"name\":\"Foi\",\"homework\":[],\"quizzes\":[],\"tests\":[]}\n"
   ]
  },
  {
   "cell_type": "code",
   "execution_count": 16,
   "id": "63baf5f0",
   "metadata": {},
   "outputs": [],
   "source": [
    "Amour = {\n",
    "\"name\": \"Amour\",\n",
    "\"homework\": [90.0,97.0,75.0,92.0],\n",
    "\"quizzes\": [88.0,40.0,94.0],\n",
    "\"tests\": [75.0,90.0]\n",
    "}\n",
    "\n",
    "Paix = {\n",
    "\"name\": \"Paix\",\n",
    "\"homework\": [100.0, 92.0, 98.0, 100.0],\n",
    "\"quizzes\": [82.0, 83.0, 91.0],\n",
    "\"tests\": [89.0, 97.0]\n",
    "}\n",
    "\n",
    "Foi = {\n",
    "\"name\": \"Foi\",\n",
    "\"homework\": [0.0, 87.0, 75.0, 22.0],\n",
    "\"quizzes\": [0.0, 75.0, 78.0],\n",
    "\"tests\": [100.0, 100.0]\n",
    "}"
   ]
  },
  {
   "cell_type": "code",
   "execution_count": 17,
   "id": "4c4a51da",
   "metadata": {},
   "outputs": [],
   "source": [
    "students = ['Amour','Paix','Foi']"
   ]
  },
  {
   "cell_type": "code",
   "execution_count": 22,
   "id": "2aaec106",
   "metadata": {},
   "outputs": [
    {
     "name": "stdout",
     "output_type": "stream",
     "text": [
      "name : Amour\n",
      "homework : [90.0, 97.0, 75.0, 92.0]\n",
      "quizzes : [88.0, 40.0, 94.0]\n",
      "tests : [75.0, 90.0]\n",
      "\t\n",
      "name : Paix\n",
      "homework : [100.0, 92.0, 98.0, 100.0]\n",
      "quizzes : [82.0, 83.0, 91.0]\n",
      "tests : [89.0, 97.0]\n",
      "\t\n",
      "name : Foi\n",
      "homework : [0.0, 87.0, 75.0, 22.0]\n",
      "quizzes : [0.0, 75.0, 78.0]\n",
      "tests : [100.0, 100.0]\n",
      "\t\n"
     ]
    }
   ],
   "source": [
    "for stud in students :\n",
    "    if stud == 'Amour' :\n",
    "        for key in Amour.keys() :\n",
    "            print(key,':',Amour[key])\n",
    "        print('\\t')\n",
    "    elif stud == 'Paix' :\n",
    "        for key in Paix.keys() :\n",
    "            print(key,':',Paix[key])\n",
    "        print('\\t')\n",
    "    elif stud == 'Foi' :\n",
    "        for key in Foi.keys() :\n",
    "            print(key,':',Foi[key])\n",
    "        print('\\t')"
   ]
  },
  {
   "cell_type": "code",
   "execution_count": 23,
   "id": "3c7f264e",
   "metadata": {},
   "outputs": [],
   "source": [
    "def average(numbers) :\n",
    "    total = sum(numbers)\n",
    "    total = total / len(numbers)\n",
    "    return total"
   ]
  },
  {
   "cell_type": "code",
   "execution_count": 29,
   "id": "5da3302c",
   "metadata": {},
   "outputs": [],
   "source": [
    "def get_average(student) :\n",
    "    homework = average(student[\"homework\"])\n",
    "    quizzes = average(student[\"quizzes\"])\n",
    "    tests = average(student[\"tests\"])\n",
    "    return homework*0.1 + quizzes*0.3 + tests*0.6"
   ]
  },
  {
   "cell_type": "code",
   "execution_count": null,
   "id": "d589c8b6",
   "metadata": {},
   "outputs": [],
   "source": []
  }
 ],
 "metadata": {
  "kernelspec": {
   "display_name": "Python 3",
   "language": "python",
   "name": "python3"
  },
  "language_info": {
   "codemirror_mode": {
    "name": "ipython",
    "version": 3
   },
   "file_extension": ".py",
   "mimetype": "text/x-python",
   "name": "python",
   "nbconvert_exporter": "python",
   "pygments_lexer": "ipython3",
   "version": "3.8.5"
  }
 },
 "nbformat": 4,
 "nbformat_minor": 5
}
