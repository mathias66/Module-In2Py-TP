{
 "cells": [
  {
   "cell_type": "code",
   "execution_count": 2,
   "id": "5f83d3a3",
   "metadata": {},
   "outputs": [
    {
     "data": {
      "text/plain": [
       "int"
      ]
     },
     "execution_count": 2,
     "metadata": {},
     "output_type": "execute_result"
    }
   ],
   "source": [
    "#1\n",
    "width = 17\n",
    "height = 12.0\n",
    "delimiter = '.'\n",
    "# type:width est de type int, value : 17\n",
    "#height est de type float , value : 12.0\n",
    "#delimiter est de type str , value : '.'"
   ]
  },
  {
   "cell_type": "code",
   "execution_count": 8,
   "id": "f3b5cbe5",
   "metadata": {},
   "outputs": [
    {
     "data": {
      "text/plain": [
       "8.5"
      ]
     },
     "execution_count": 8,
     "metadata": {},
     "output_type": "execute_result"
    }
   ],
   "source": [
    "#a value 8.5 type : float\n",
    "width/2\n"
   ]
  },
  {
   "cell_type": "code",
   "execution_count": 9,
   "id": "5db860a9",
   "metadata": {},
   "outputs": [
    {
     "data": {
      "text/plain": [
       "float"
      ]
     },
     "execution_count": 9,
     "metadata": {},
     "output_type": "execute_result"
    }
   ],
   "source": [
    "type(width/2)"
   ]
  },
  {
   "cell_type": "code",
   "execution_count": 11,
   "id": "51edb2c0",
   "metadata": {},
   "outputs": [
    {
     "data": {
      "text/plain": [
       "8.5"
      ]
     },
     "execution_count": 11,
     "metadata": {},
     "output_type": "execute_result"
    }
   ],
   "source": [
    "#b value 8.5 type float\n",
    "width/2.0\n"
   ]
  },
  {
   "cell_type": "code",
   "execution_count": 12,
   "id": "ebeb07d5",
   "metadata": {},
   "outputs": [
    {
     "data": {
      "text/plain": [
       "float"
      ]
     },
     "execution_count": 12,
     "metadata": {},
     "output_type": "execute_result"
    }
   ],
   "source": [
    "type(width/2.0)"
   ]
  },
  {
   "cell_type": "code",
   "execution_count": 13,
   "id": "e5702816",
   "metadata": {},
   "outputs": [
    {
     "data": {
      "text/plain": [
       "4.0"
      ]
     },
     "execution_count": 13,
     "metadata": {},
     "output_type": "execute_result"
    }
   ],
   "source": [
    "#c value 4.0 type float\n",
    "height/3\n",
    "\n"
   ]
  },
  {
   "cell_type": "code",
   "execution_count": 14,
   "id": "a5c92e08",
   "metadata": {},
   "outputs": [
    {
     "data": {
      "text/plain": [
       "float"
      ]
     },
     "execution_count": 14,
     "metadata": {},
     "output_type": "execute_result"
    }
   ],
   "source": [
    "type(height/3)"
   ]
  },
  {
   "cell_type": "code",
   "execution_count": 17,
   "id": "e9792f25",
   "metadata": {},
   "outputs": [
    {
     "data": {
      "text/plain": [
       "11"
      ]
     },
     "execution_count": 17,
     "metadata": {},
     "output_type": "execute_result"
    }
   ],
   "source": [
    "#d value 11 type int\n",
    "1+2*5"
   ]
  },
  {
   "cell_type": "code",
   "execution_count": 18,
   "id": "6808309e",
   "metadata": {},
   "outputs": [
    {
     "data": {
      "text/plain": [
       "int"
      ]
     },
     "execution_count": 18,
     "metadata": {},
     "output_type": "execute_result"
    }
   ],
   "source": [
    "type(1+2*5)"
   ]
  },
  {
   "cell_type": "code",
   "execution_count": 19,
   "id": "8018c64f",
   "metadata": {},
   "outputs": [
    {
     "data": {
      "text/plain": [
       "'.....'"
      ]
     },
     "execution_count": 19,
     "metadata": {},
     "output_type": "execute_result"
    }
   ],
   "source": [
    "#e value '.....' type str\n",
    "delimiter * 5"
   ]
  },
  {
   "cell_type": "code",
   "execution_count": 20,
   "id": "5648aa53",
   "metadata": {},
   "outputs": [
    {
     "data": {
      "text/plain": [
       "str"
      ]
     },
     "execution_count": 20,
     "metadata": {},
     "output_type": "execute_result"
    }
   ],
   "source": [
    "type(delimiter * 5)"
   ]
  },
  {
   "cell_type": "code",
   "execution_count": 22,
   "id": "b306bd97",
   "metadata": {},
   "outputs": [],
   "source": [
    "#2 le volume est \n",
    "Jupyter Notebook\n",
    "python00_IMSP-Mathias Current Kernel Logo \n",
    "\n",
    "Python 3\n",
    "\n",
    "width = 17\n",
    "\n",
    "height = 12.0\n",
    "\n",
    "delimiter = '.'\n",
    "\n",
    "# type:width est de type int, value : 17\n",
    "\n",
    "#height est de type float , value : 12.0\n",
    "\n",
    "#delimiter est de type str , value : '.'\n",
    "\n",
    "int\n",
    "\n",
    "#a value 8.5 type : float\n",
    "\n",
    "width/2\n",
    "\n",
    "​\n",
    "\n",
    "8.5\n",
    "\n",
    "type(width/2)\n",
    "\n",
    "float\n",
    "\n",
    "#b value 8.5 type float\n",
    "\n",
    "width/2.0\n",
    "\n",
    "​\n",
    "\n",
    "8.5\n",
    "\n",
    "type(width/2.0)\n",
    "\n",
    "float\n",
    "\n",
    "#c value 4.0 type float\n",
    "\n",
    "height/3\n",
    "\n",
    "​\n",
    "\n",
    "​\n",
    "\n",
    "4.0\n",
    "\n",
    "type(height/3)\n",
    "\n",
    "float\n",
    "\n",
    "#d value 11 type int\n",
    "\n",
    "1+2*5\n",
    "\n",
    "11\n",
    "\n",
    "type(1+2*5)\n",
    "\n",
    "int\n",
    "\n",
    "#e value '.....' type str\n",
    "\n",
    "delimiter * 5\n",
    "\n",
    "'.....'\n",
    "\n",
    "type(delimiter * 5)\n",
    "\n",
    "str\n",
    "\n",
    "#2\n",
    "\n",
    "r = 5\n",
    "\n",
    "pi = 3.1415926535897931\n",
    "\n",
    "volume = 4/3 * pi * r**3\n",
    "\n",
    "volume\n",
    "\n",
    "523.5987755982989\n",
    "r = 5\n",
    "pi = 3.1415926535897931"
   ]
  },
  {
   "cell_type": "code",
   "execution_count": 23,
   "id": "eab9ce87",
   "metadata": {},
   "outputs": [],
   "source": [
    "volume = 4/3 * pi * r**3"
   ]
  },
  {
   "cell_type": "code",
   "execution_count": 24,
   "id": "7b3910be",
   "metadata": {},
   "outputs": [
    {
     "data": {
      "text/plain": [
       "523.5987755982989"
      ]
     },
     "execution_count": 24,
     "metadata": {},
     "output_type": "execute_result"
    }
   ],
   "source": [
    "volume"
   ]
  },
  {
   "cell_type": "code",
   "execution_count": 28,
   "id": "9277fea3",
   "metadata": {},
   "outputs": [],
   "source": [
    "var1 = 1\n",
    "var2 = 5.0\n",
    "var3 = \"ten\""
   ]
  },
  {
   "cell_type": "code",
   "execution_count": 26,
   "id": "d6914d66",
   "metadata": {},
   "outputs": [
    {
     "data": {
      "text/plain": [
       "int"
      ]
     },
     "execution_count": 26,
     "metadata": {},
     "output_type": "execute_result"
    }
   ],
   "source": [
    "type(var1)"
   ]
  },
  {
   "cell_type": "code",
   "execution_count": 29,
   "id": "449fd25e",
   "metadata": {},
   "outputs": [
    {
     "data": {
      "text/plain": [
       "float"
      ]
     },
     "execution_count": 29,
     "metadata": {},
     "output_type": "execute_result"
    }
   ],
   "source": [
    "type(var2)"
   ]
  },
  {
   "cell_type": "markdown",
   "id": "815dee74",
   "metadata": {},
   "source": [
    "2"
   ]
  },
  {
   "cell_type": "code",
   "execution_count": 31,
   "id": "d8541b0a",
   "metadata": {},
   "outputs": [],
   "source": [
    "val1 = 2\n",
    "val2 = 3\n",
    "val3 = 3.0\n",
    "val5 = 4.4\n",
    "val4 = \"string\""
   ]
  },
  {
   "cell_type": "markdown",
   "id": "83a8696a",
   "metadata": {},
   "source": [
    "(i)"
   ]
  },
  {
   "cell_type": "code",
   "execution_count": 32,
   "id": "2aedb238",
   "metadata": {},
   "outputs": [
    {
     "data": {
      "text/plain": [
       "-1"
      ]
     },
     "execution_count": 32,
     "metadata": {},
     "output_type": "execute_result"
    }
   ],
   "source": [
    "val1 - val2"
   ]
  },
  {
   "cell_type": "markdown",
   "id": "943c7163",
   "metadata": {},
   "source": [
    "(ii)"
   ]
  },
  {
   "cell_type": "code",
   "execution_count": 33,
   "id": "9a926bfd",
   "metadata": {},
   "outputs": [
    {
     "data": {
      "text/plain": [
       "-1.0"
      ]
     },
     "execution_count": 33,
     "metadata": {},
     "output_type": "execute_result"
    }
   ],
   "source": [
    "val1 -val3"
   ]
  },
  {
   "cell_type": "markdown",
   "id": "257ccb9d",
   "metadata": {},
   "source": [
    "(ii)"
   ]
  },
  {
   "cell_type": "code",
   "execution_count": 34,
   "id": "8a56f452",
   "metadata": {},
   "outputs": [
    {
     "ename": "TypeError",
     "evalue": "unsupported operand type(s) for -: 'float' and 'str'",
     "output_type": "error",
     "traceback": [
      "\u001b[0;31m---------------------------------------------------------------------------\u001b[0m",
      "\u001b[0;31mTypeError\u001b[0m                                 Traceback (most recent call last)",
      "\u001b[0;32m<ipython-input-34-f09f28419a21>\u001b[0m in \u001b[0;36m<module>\u001b[0;34m\u001b[0m\n\u001b[0;32m----> 1\u001b[0;31m \u001b[0mval3\u001b[0m \u001b[0;34m-\u001b[0m \u001b[0mval4\u001b[0m\u001b[0;34m\u001b[0m\u001b[0;34m\u001b[0m\u001b[0m\n\u001b[0m",
      "\u001b[0;31mTypeError\u001b[0m: unsupported operand type(s) for -: 'float' and 'str'"
     ]
    }
   ],
   "source": [
    "val3 - val4"
   ]
  },
  {
   "cell_type": "code",
   "execution_count": 35,
   "id": "ca657932",
   "metadata": {},
   "outputs": [
    {
     "ename": "TypeError",
     "evalue": "unsupported operand type(s) for -: 'str' and 'str'",
     "output_type": "error",
     "traceback": [
      "\u001b[0;31m---------------------------------------------------------------------------\u001b[0m",
      "\u001b[0;31mTypeError\u001b[0m                                 Traceback (most recent call last)",
      "\u001b[0;32m<ipython-input-35-849bda636ac4>\u001b[0m in \u001b[0;36m<module>\u001b[0;34m\u001b[0m\n\u001b[0;32m----> 1\u001b[0;31m \u001b[0mval4\u001b[0m \u001b[0;34m-\u001b[0m \u001b[0mval4\u001b[0m\u001b[0;34m\u001b[0m\u001b[0;34m\u001b[0m\u001b[0m\n\u001b[0m",
      "\u001b[0;31mTypeError\u001b[0m: unsupported operand type(s) for -: 'str' and 'str'"
     ]
    }
   ],
   "source": [
    "val4 - val4"
   ]
  },
  {
   "cell_type": "markdown",
   "id": "68c7fb6e",
   "metadata": {},
   "source": [
    "3"
   ]
  },
  {
   "cell_type": "code",
   "execution_count": 36,
   "id": "b1a7ea7f",
   "metadata": {},
   "outputs": [
    {
     "data": {
      "text/plain": [
       "6"
      ]
     },
     "execution_count": 36,
     "metadata": {},
     "output_type": "execute_result"
    }
   ],
   "source": [
    "val1 * val2"
   ]
  },
  {
   "cell_type": "code",
   "execution_count": 37,
   "id": "73956e35",
   "metadata": {},
   "outputs": [
    {
     "ename": "NameError",
     "evalue": "name 'val5' is not defined",
     "output_type": "error",
     "traceback": [
      "\u001b[0;31m---------------------------------------------------------------------------\u001b[0m",
      "\u001b[0;31mNameError\u001b[0m                                 Traceback (most recent call last)",
      "\u001b[0;32m<ipython-input-37-2dab67c18bc2>\u001b[0m in \u001b[0;36m<module>\u001b[0;34m\u001b[0m\n\u001b[0;32m----> 1\u001b[0;31m \u001b[0mval1\u001b[0m \u001b[0;34m*\u001b[0m \u001b[0mval5\u001b[0m\u001b[0;34m\u001b[0m\u001b[0;34m\u001b[0m\u001b[0m\n\u001b[0m",
      "\u001b[0;31mNameError\u001b[0m: name 'val5' is not defined"
     ]
    }
   ],
   "source": [
    "val1 * val5"
   ]
  },
  {
   "cell_type": "code",
   "execution_count": 38,
   "id": "3783ce95",
   "metadata": {},
   "outputs": [
    {
     "data": {
      "text/plain": [
       "9.0"
      ]
     },
     "execution_count": 38,
     "metadata": {},
     "output_type": "execute_result"
    }
   ],
   "source": [
    "val3 * val3"
   ]
  },
  {
   "cell_type": "code",
   "execution_count": 39,
   "id": "b37bdeaf",
   "metadata": {},
   "outputs": [
    {
     "ename": "TypeError",
     "evalue": "can't multiply sequence by non-int of type 'float'",
     "output_type": "error",
     "traceback": [
      "\u001b[0;31m---------------------------------------------------------------------------\u001b[0m",
      "\u001b[0;31mTypeError\u001b[0m                                 Traceback (most recent call last)",
      "\u001b[0;32m<ipython-input-39-39d7a3d37a08>\u001b[0m in \u001b[0;36m<module>\u001b[0;34m\u001b[0m\n\u001b[0;32m----> 1\u001b[0;31m \u001b[0mval3\u001b[0m\u001b[0;34m*\u001b[0m\u001b[0mval4\u001b[0m\u001b[0;34m\u001b[0m\u001b[0;34m\u001b[0m\u001b[0m\n\u001b[0m",
      "\u001b[0;31mTypeError\u001b[0m: can't multiply sequence by non-int of type 'float'"
     ]
    }
   ],
   "source": [
    "val3*val4"
   ]
  },
  {
   "cell_type": "code",
   "execution_count": 40,
   "id": "ed69dc85",
   "metadata": {},
   "outputs": [
    {
     "ename": "TypeError",
     "evalue": "can't multiply sequence by non-int of type 'str'",
     "output_type": "error",
     "traceback": [
      "\u001b[0;31m---------------------------------------------------------------------------\u001b[0m",
      "\u001b[0;31mTypeError\u001b[0m                                 Traceback (most recent call last)",
      "\u001b[0;32m<ipython-input-40-2648cbbee521>\u001b[0m in \u001b[0;36m<module>\u001b[0;34m\u001b[0m\n\u001b[0;32m----> 1\u001b[0;31m \u001b[0mval4\u001b[0m \u001b[0;34m*\u001b[0m \u001b[0mval4\u001b[0m\u001b[0;34m\u001b[0m\u001b[0;34m\u001b[0m\u001b[0m\n\u001b[0m",
      "\u001b[0;31mTypeError\u001b[0m: can't multiply sequence by non-int of type 'str'"
     ]
    }
   ],
   "source": [
    "val4 * val4"
   ]
  },
  {
   "cell_type": "code",
   "execution_count": 41,
   "id": "67d9e300",
   "metadata": {},
   "outputs": [
    {
     "data": {
      "text/plain": [
       "0.6666666666666666"
      ]
     },
     "execution_count": 41,
     "metadata": {},
     "output_type": "execute_result"
    }
   ],
   "source": [
    "val1 / val2"
   ]
  },
  {
   "cell_type": "code",
   "execution_count": 42,
   "id": "951ed35a",
   "metadata": {},
   "outputs": [
    {
     "data": {
      "text/plain": [
       "1.0"
      ]
     },
     "execution_count": 42,
     "metadata": {},
     "output_type": "execute_result"
    }
   ],
   "source": [
    "val3 / val3"
   ]
  },
  {
   "cell_type": "code",
   "execution_count": 43,
   "id": "e12a0692",
   "metadata": {},
   "outputs": [
    {
     "ename": "TypeError",
     "evalue": "unsupported operand type(s) for /: 'float' and 'str'",
     "output_type": "error",
     "traceback": [
      "\u001b[0;31m---------------------------------------------------------------------------\u001b[0m",
      "\u001b[0;31mTypeError\u001b[0m                                 Traceback (most recent call last)",
      "\u001b[0;32m<ipython-input-43-c08935785080>\u001b[0m in \u001b[0;36m<module>\u001b[0;34m\u001b[0m\n\u001b[0;32m----> 1\u001b[0;31m \u001b[0mval3\u001b[0m \u001b[0;34m/\u001b[0m \u001b[0mval4\u001b[0m\u001b[0;34m\u001b[0m\u001b[0;34m\u001b[0m\u001b[0m\n\u001b[0m",
      "\u001b[0;31mTypeError\u001b[0m: unsupported operand type(s) for /: 'float' and 'str'"
     ]
    }
   ],
   "source": [
    "val3 / val4"
   ]
  },
  {
   "cell_type": "code",
   "execution_count": 44,
   "id": "d43cde01",
   "metadata": {},
   "outputs": [
    {
     "data": {
      "text/plain": [
       "2"
      ]
     },
     "execution_count": 44,
     "metadata": {},
     "output_type": "execute_result"
    }
   ],
   "source": [
    "val1 % val2"
   ]
  },
  {
   "cell_type": "code",
   "execution_count": 45,
   "id": "e9240c39",
   "metadata": {},
   "outputs": [
    {
     "data": {
      "text/plain": [
       "2.0"
      ]
     },
     "execution_count": 45,
     "metadata": {},
     "output_type": "execute_result"
    }
   ],
   "source": [
    "val1%val3"
   ]
  },
  {
   "cell_type": "code",
   "execution_count": 46,
   "id": "22750c5f",
   "metadata": {},
   "outputs": [
    {
     "data": {
      "text/plain": [
       "0.0"
      ]
     },
     "execution_count": 46,
     "metadata": {},
     "output_type": "execute_result"
    }
   ],
   "source": [
    "val3%val3"
   ]
  },
  {
   "cell_type": "code",
   "execution_count": 47,
   "id": "9bd0c0f0",
   "metadata": {},
   "outputs": [
    {
     "ename": "TypeError",
     "evalue": "unsupported operand type(s) for %: 'float' and 'str'",
     "output_type": "error",
     "traceback": [
      "\u001b[0;31m---------------------------------------------------------------------------\u001b[0m",
      "\u001b[0;31mTypeError\u001b[0m                                 Traceback (most recent call last)",
      "\u001b[0;32m<ipython-input-47-844fd40a6dfb>\u001b[0m in \u001b[0;36m<module>\u001b[0;34m\u001b[0m\n\u001b[0;32m----> 1\u001b[0;31m \u001b[0mval3\u001b[0m\u001b[0;34m%\u001b[0m\u001b[0mval4\u001b[0m\u001b[0;34m\u001b[0m\u001b[0;34m\u001b[0m\u001b[0m\n\u001b[0m",
      "\u001b[0;31mTypeError\u001b[0m: unsupported operand type(s) for %: 'float' and 'str'"
     ]
    }
   ],
   "source": [
    "val3%val4"
   ]
  },
  {
   "cell_type": "code",
   "execution_count": 48,
   "id": "77d22927",
   "metadata": {},
   "outputs": [
    {
     "data": {
      "text/plain": [
       "True"
      ]
     },
     "execution_count": 48,
     "metadata": {},
     "output_type": "execute_result"
    }
   ],
   "source": [
    "val1 < val2"
   ]
  },
  {
   "cell_type": "code",
   "execution_count": 49,
   "id": "a6d24b1f",
   "metadata": {},
   "outputs": [
    {
     "data": {
      "text/plain": [
       "True"
      ]
     },
     "execution_count": 49,
     "metadata": {},
     "output_type": "execute_result"
    }
   ],
   "source": [
    "val1 < val3"
   ]
  },
  {
   "cell_type": "code",
   "execution_count": 50,
   "id": "80afb99e",
   "metadata": {},
   "outputs": [
    {
     "data": {
      "text/plain": [
       "False"
      ]
     },
     "execution_count": 50,
     "metadata": {},
     "output_type": "execute_result"
    }
   ],
   "source": [
    "val1 > val2"
   ]
  },
  {
   "cell_type": "code",
   "execution_count": 51,
   "id": "1b35ab39",
   "metadata": {},
   "outputs": [
    {
     "ename": "TypeError",
     "evalue": "'>' not supported between instances of 'int' and 'str'",
     "output_type": "error",
     "traceback": [
      "\u001b[0;31m---------------------------------------------------------------------------\u001b[0m",
      "\u001b[0;31mTypeError\u001b[0m                                 Traceback (most recent call last)",
      "\u001b[0;32m<ipython-input-51-b68278f77563>\u001b[0m in \u001b[0;36m<module>\u001b[0;34m\u001b[0m\n\u001b[0;32m----> 1\u001b[0;31m \u001b[0mval1\u001b[0m \u001b[0;34m>\u001b[0m\u001b[0mval4\u001b[0m\u001b[0;34m\u001b[0m\u001b[0;34m\u001b[0m\u001b[0m\n\u001b[0m\u001b[1;32m      2\u001b[0m \u001b[0mval2\u001b[0m \u001b[0;34m>\u001b[0m\u001b[0mval5\u001b[0m\u001b[0;34m\u001b[0m\u001b[0;34m\u001b[0m\u001b[0m\n",
      "\u001b[0;31mTypeError\u001b[0m: '>' not supported between instances of 'int' and 'str'"
     ]
    }
   ],
   "source": [
    "val1 >val4\n",
    "val2 >val5"
   ]
  },
  {
   "cell_type": "code",
   "execution_count": 52,
   "id": "f72bdc3a",
   "metadata": {},
   "outputs": [
    {
     "data": {
      "text/plain": [
       "True"
      ]
     },
     "execution_count": 52,
     "metadata": {},
     "output_type": "execute_result"
    }
   ],
   "source": [
    "val1 <= val2"
   ]
  },
  {
   "cell_type": "code",
   "execution_count": 53,
   "id": "ecc29704",
   "metadata": {},
   "outputs": [
    {
     "ename": "TypeError",
     "evalue": "'<=' not supported between instances of 'int' and 'str'",
     "output_type": "error",
     "traceback": [
      "\u001b[0;31m---------------------------------------------------------------------------\u001b[0m",
      "\u001b[0;31mTypeError\u001b[0m                                 Traceback (most recent call last)",
      "\u001b[0;32m<ipython-input-53-d6d771827c18>\u001b[0m in \u001b[0;36m<module>\u001b[0;34m\u001b[0m\n\u001b[0;32m----> 1\u001b[0;31m \u001b[0mval1\u001b[0m\u001b[0;34m<=\u001b[0m \u001b[0mval4\u001b[0m\u001b[0;34m\u001b[0m\u001b[0;34m\u001b[0m\u001b[0m\n\u001b[0m",
      "\u001b[0;31mTypeError\u001b[0m: '<=' not supported between instances of 'int' and 'str'"
     ]
    }
   ],
   "source": [
    "val1<= val4"
   ]
  },
  {
   "cell_type": "code",
   "execution_count": 54,
   "id": "ab8f81be",
   "metadata": {},
   "outputs": [
    {
     "data": {
      "text/plain": [
       "True"
      ]
     },
     "execution_count": 54,
     "metadata": {},
     "output_type": "execute_result"
    }
   ],
   "source": [
    "val1 <= val3"
   ]
  },
  {
   "cell_type": "code",
   "execution_count": 55,
   "id": "76272153",
   "metadata": {},
   "outputs": [
    {
     "data": {
      "text/plain": [
       "3"
      ]
     },
     "execution_count": 55,
     "metadata": {},
     "output_type": "execute_result"
    }
   ],
   "source": [
    "val1 and val2"
   ]
  },
  {
   "cell_type": "code",
   "execution_count": 56,
   "id": "c05c7e7d",
   "metadata": {},
   "outputs": [
    {
     "data": {
      "text/plain": [
       "False"
      ]
     },
     "execution_count": 56,
     "metadata": {},
     "output_type": "execute_result"
    }
   ],
   "source": [
    " val1 == val2"
   ]
  },
  {
   "cell_type": "code",
   "execution_count": null,
   "id": "87cb30a2",
   "metadata": {},
   "outputs": [],
   "source": []
  }
 ],
 "metadata": {
  "kernelspec": {
   "display_name": "Python 3",
   "language": "python",
   "name": "python3"
  },
  "language_info": {
   "codemirror_mode": {
    "name": "ipython",
    "version": 3
   },
   "file_extension": ".py",
   "mimetype": "text/x-python",
   "name": "python",
   "nbconvert_exporter": "python",
   "pygments_lexer": "ipython3",
   "version": "3.8.5"
  }
 },
 "nbformat": 4,
 "nbformat_minor": 5
}
